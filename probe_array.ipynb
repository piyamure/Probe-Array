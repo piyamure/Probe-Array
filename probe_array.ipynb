{
 "cells": [
  {
   "cell_type": "code",
   "execution_count": 1,
   "metadata": {
    "id": "DGYmStoHjwM7"
   },
   "outputs": [],
   "source": [
    "import numpy as np\n",
    "import sympy as sp \n",
    "from sympy import assoc_legendre\n",
    "import matplotlib.pyplot as plt"
   ]
  },
  {
   "cell_type": "code",
   "execution_count": 2,
   "metadata": {
    "id": "ghc9CkU5j3Vj"
   },
   "outputs": [],
   "source": [
    "l,m = sp.symbols('l,m',real=True)\n",
    "x,y,z = sp.symbols('x,y,z',real=True,positive=True)\n",
    "r,theta,phi = sp.symbols('r,theta,phi')\n",
    "\n",
    "# function to convert spherical coords to cartesian \n",
    "def SphericalToCartesian(f):\n",
    "  return f.subs([(r,sp.sqrt(x**2 + y**2 + z**2)),\n",
    "                 (theta,sp.acos(z/sp.sqrt(x**2 + y**2 + z**2))),\n",
    "                 (phi,sp.asin(y/sp.sqrt(x**2 + y**2)))])"
   ]
  },
  {
   "cell_type": "code",
   "execution_count": 3,
   "metadata": {
    "id": "Ntqs9W-Nj6J6"
   },
   "outputs": [],
   "source": [
    "# function to generate basis function in cartisian coords \n",
    "def basisFunction(l,m):\n",
    "  l+=1\n",
    "  c_plus = sp.factorial(l-1) * (-2)**(sp.Abs(m)) /sp.factorial(l + m) * sp.cos(m * phi)\n",
    "  c_negt = sp.factorial(l-1) * (-2)**(sp.Abs(m)) /sp.factorial(l + sp.Abs(m)) * sp.sin(sp.Abs(m) * phi)\n",
    "\n",
    "  s_plus  = SphericalToCartesian(c_plus* r**l * assoc_legendre(l,m,sp.cos(theta)))\n",
    "  s_minus = SphericalToCartesian(c_negt* r**l * assoc_legendre(l,sp.Abs(m),sp.cos(theta)))\n",
    "  \n",
    "  if m >= 0:\n",
    "    return [sp.expand_trig(sp.diff(s_plus, axis)).simplify() for axis in [x,y,z]]\n",
    "  else:\n",
    "    return [sp.expand_trig(sp.diff(s_minus, axis)).simplify().expand() for axis in [x,y,z]]"
   ]
  },
  {
   "cell_type": "code",
   "execution_count": 4,
   "metadata": {
    "id": "FK2c38ajFhWs"
   },
   "outputs": [],
   "source": [
    "# get the array of basis fucntion upto order l as a function of x,y,z\n",
    "def basis_upto_order(l):\n",
    "  Phi= [[basisFunction(i,j)[k] for i in range(l+1) for j in range(-i-1,i+2)] for k in range(3)]\n",
    "  Phi_lambda = [sp.lambdify((x,y,z),Phi[i]) for i in range(3)]\n",
    "  Phi_X,Phi_Y,Phi_Z = Phi_lambda[0],Phi_lambda[1],Phi_lambda[2]\n",
    "  return Phi_X,Phi_Y,Phi_Z"
   ]
  },
  {
   "cell_type": "code",
   "execution_count": 5,
   "metadata": {
    "id": "O6Yeci-6NsPC"
   },
   "outputs": [],
   "source": [
    "# get the all the basis function upto order 3 \n",
    "Phi_X,Phi_Y,Phi_Z = basis_upto_order(3)"
   ]
  },
  {
   "cell_type": "code",
   "execution_count": 6,
   "metadata": {
    "id": "djNUZMdR7V1u"
   },
   "outputs": [],
   "source": [
    "# all basis fucntion at coordinate array, the order is Phi_z,Phi_X,Phi_Y\n",
    "def all_basis_at_coordarray(coord_list):\n",
    "  C_x = np.array(list(map(Phi_X,*coord_list.T)))\n",
    "  C_y = np.array(list(map(Phi_Y,*coord_list.T)))\n",
    "  C_z = np.array(list(map(Phi_Z,*coord_list.T)))\n",
    "  C   = np.array([C_z,C_x,C_y])\n",
    "  return C.T"
   ]
  },
  {
   "cell_type": "code",
   "execution_count": 7,
   "metadata": {
    "id": "FL887c0qDdzl"
   },
   "outputs": [],
   "source": [
    "# basis functions of oder l evaluated at coordinate array \n",
    "def basis_at_coordarray(coord_list,order):\n",
    "  C_x = np.array(list(map(Phi_X,*coord_list.T)))\n",
    "  C_y = np.array(list(map(Phi_Y,*coord_list.T)))\n",
    "  C_z = np.array(list(map(Phi_Z,*coord_list.T)))\n",
    "  C   = np.array([C_z,C_x,C_y])\n",
    "  start_index, end_index =order*(order+2),(order +1)*(order + 3)\n",
    "  return C.T[start_index:end_index]"
   ]
  },
  {
   "cell_type": "code",
   "execution_count": 8,
   "metadata": {
    "id": "Zizf0GQm7nOm"
   },
   "outputs": [],
   "source": [
    "# get value of all basis fucntion at a given point(probe location)\n",
    "def all_basis_at_point(point,coord_list):\n",
    "  return all_basis_at_coordarray(coord_list)[:,point,:]"
   ]
  },
  {
   "cell_type": "code",
   "execution_count": 9,
   "metadata": {
    "id": "XNzHlUCm0_7V"
   },
   "outputs": [],
   "source": [
    "# get the value of basis fucntion of given order at a probe location \n",
    "def basis_at_point(point,coord_list,order):\n",
    "  return basis_at_coordarray(coord_list,order)[:,point,:]"
   ]
  },
  {
   "cell_type": "code",
   "execution_count": 10,
   "metadata": {
    "id": "cHaSmkC2ksu1"
   },
   "outputs": [],
   "source": [
    "# magnetometer positions \n",
    "pos_0 = np.array([[-1,0,0],[0,-1,0],[0,0,-1],[1,0,0],[0,1,0],[0,0,1]])     # along x,y,z axis \n",
    "pos_1 = np.array([[-1,-1,-1],[1,-1,-1],[1,1,-1],[-1,1,-1],\n",
    "                  [-1,-1,1],[1,-1,1],[1,1,1],[-1,1,1]])                    # along the corners of a cube \n",
    "pos_2 = np.array([[-1,0,-1],[0,-1,-1],[1,0,-1],[0,1,-1],\n",
    "                  [-1,-1,0],[1,-1,0],[1,1,0],[-1,1,0],\n",
    "                  [-1,0,1],[0,-1,1],[1,0,1],[0,1,1]])                      # in between corners"
   ]
  },
  {
   "cell_type": "code",
   "execution_count": 11,
   "metadata": {
    "id": "W9EtcEQB-rsS"
   },
   "outputs": [],
   "source": [
    "# select 20 probe locations using (corners and inbetween the corners of cube)\n",
    "pos_all = np.concatenate([pos_1,pos_2])  "
   ]
  },
  {
   "cell_type": "code",
   "execution_count": 12,
   "metadata": {
    "id": "0enUSgLBCUIQ"
   },
   "outputs": [],
   "source": [
    "# this gives at each basis function(along the rows) and at each probe location \n",
    "# what component is bigger(if z component is bigger ->0, x->1,y->2 )\n",
    "index_array = np.argmax(np.abs(all_basis_at_coordarray(pos_all)),axis=2)"
   ]
  },
  {
   "cell_type": "code",
   "execution_count": 13,
   "metadata": {
    "id": "4ckU7JhGVgMD"
   },
   "outputs": [],
   "source": [
    "index_array=index_array[3:] # ignore the first three coeff(the constat fields)"
   ]
  },
  {
   "cell_type": "code",
   "execution_count": 14,
   "metadata": {
    "colab": {
     "base_uri": "https://localhost:8080/"
    },
    "executionInfo": {
     "elapsed": 9,
     "status": "ok",
     "timestamp": 1660234256912,
     "user": {
      "displayName": "Piya Amara Palamure",
      "userId": "09416337417591855889"
     },
     "user_tz": 240
    },
    "id": "lP4DWGLYpHwF",
    "outputId": "c1c0d9b5-e015-4181-fe02-e49fbc487b56"
   },
   "outputs": [
    {
     "data": {
      "text/plain": [
       "array([[1, 1, 1, 1, 1, 1, 1, 1, 2, 1, 2, 1, 1, 1, 1, 1, 2, 1, 2, 1],\n",
       "       [0, 0, 0, 0, 0, 0, 0, 0, 2, 0, 2, 0, 0, 0, 0, 0, 2, 0, 2, 0],\n",
       "       [0, 0, 0, 0, 0, 0, 0, 0, 0, 0, 0, 0, 1, 1, 1, 1, 0, 0, 0, 0],\n",
       "       [0, 0, 0, 0, 0, 0, 0, 0, 0, 1, 0, 1, 0, 0, 0, 0, 0, 1, 0, 1],\n",
       "       [1, 1, 1, 1, 1, 1, 1, 1, 1, 2, 1, 2, 1, 1, 1, 1, 1, 2, 1, 2],\n",
       "       [1, 1, 1, 1, 1, 1, 1, 1, 2, 2, 2, 2, 1, 1, 1, 1, 2, 2, 2, 2],\n",
       "       [0, 0, 0, 0, 0, 0, 0, 0, 2, 1, 2, 1, 0, 0, 0, 0, 2, 1, 2, 1],\n",
       "       [0, 0, 0, 0, 0, 0, 0, 0, 2, 0, 2, 0, 2, 2, 2, 2, 2, 0, 2, 0],\n",
       "       [1, 1, 1, 1, 1, 1, 1, 1, 1, 2, 1, 2, 0, 0, 0, 0, 1, 2, 1, 2],\n",
       "       [0, 0, 0, 0, 0, 0, 0, 0, 0, 1, 0, 1, 1, 1, 1, 1, 0, 1, 0, 1],\n",
       "       [1, 1, 1, 1, 1, 1, 1, 1, 1, 2, 1, 2, 0, 0, 0, 0, 1, 2, 1, 2],\n",
       "       [2, 2, 2, 2, 2, 2, 2, 2, 1, 1, 1, 1, 2, 2, 2, 2, 1, 1, 1, 1],\n",
       "       [1, 1, 1, 1, 1, 1, 1, 1, 2, 1, 2, 1, 1, 1, 1, 1, 2, 1, 2, 1],\n",
       "       [1, 1, 1, 1, 1, 1, 1, 1, 2, 2, 2, 2, 0, 0, 0, 0, 2, 2, 2, 2],\n",
       "       [0, 0, 0, 0, 0, 0, 0, 0, 2, 1, 2, 1, 1, 1, 1, 1, 2, 1, 2, 1],\n",
       "       [2, 2, 2, 2, 2, 2, 2, 2, 2, 0, 2, 0, 0, 0, 0, 0, 2, 0, 2, 0],\n",
       "       [0, 0, 0, 0, 0, 0, 0, 0, 1, 2, 1, 2, 1, 1, 1, 1, 1, 2, 1, 2],\n",
       "       [1, 1, 1, 1, 1, 1, 1, 1, 0, 1, 0, 1, 0, 0, 0, 0, 0, 1, 0, 1],\n",
       "       [1, 1, 1, 1, 1, 1, 1, 1, 0, 0, 0, 0, 1, 1, 1, 1, 0, 0, 0, 0],\n",
       "       [2, 2, 2, 2, 2, 2, 2, 2, 1, 1, 1, 1, 0, 0, 0, 0, 1, 1, 1, 1],\n",
       "       [1, 1, 1, 1, 1, 1, 1, 1, 1, 2, 1, 2, 1, 1, 1, 1, 1, 2, 1, 2]],\n",
       "      dtype=int64)"
      ]
     },
     "execution_count": 14,
     "metadata": {},
     "output_type": "execute_result"
    }
   ],
   "source": [
    "index_array"
   ]
  },
  {
   "cell_type": "code",
   "execution_count": 17,
   "metadata": {
    "id": "e0pyiWA1X0tL"
   },
   "outputs": [],
   "source": [
    "probe_location = [] # index of the coordinate array\n",
    "coef_array     = [] # index of the coefficient array\n",
    "probe_name     = [] # locate the probe and direction \n",
    "\n",
    "# first assign z harmonic coeff to coordinate(probe locations)\n",
    "for i in range(len(index_array)):\n",
    "  for j in range(len(index_array[i])):\n",
    "    if i not in coef_array and j not in probe_location:\n",
    "      if index_array[i][j] == 0:\n",
    "        probe_location.append(j)\n",
    "        coef_array.append(i)\n",
    "        probe_name.append(f'coef {i:2d} assined to coord {j:2d} with z component')\n",
    "      continue\n",
    "# second assign x harmonic coeff to coordinate(probe locations)\n",
    "for i in range(len(index_array)):\n",
    "  for j in range(len(index_array[i])):\n",
    "    if i not in coef_array and j not in probe_location:\n",
    "      if index_array[i][j] == 1:\n",
    "        probe_location.append(j)\n",
    "        coef_array.append(i)\n",
    "        probe_name.append(f'coef {i:2d} assined to coord {j:2d} with x component')\n",
    "      continue\n",
    "# third assign y harmonic coeff to coordinate(probe locations)\n",
    "for i in range(len(index_array)):\n",
    "  for j in range(len(index_array[i])):\n",
    "    if i not in coef_array and j not in probe_location:\n",
    "      if index_array[i][j] == 2:\n",
    "        probe_location.append(j)\n",
    "        coef_array.append(i)\n",
    "        probe_name.append(f'coef {i:2d} assined to coord {j:2d} with y component')\n",
    "      continue\n"
   ]
  },
  {
   "cell_type": "code",
   "execution_count": 18,
   "metadata": {},
   "outputs": [
    {
     "data": {
      "text/plain": [
       "['coef  1 assined to coord  0 with z component',\n",
       " 'coef  2 assined to coord  1 with z component',\n",
       " 'coef  3 assined to coord  2 with z component',\n",
       " 'coef  6 assined to coord  3 with z component',\n",
       " 'coef  7 assined to coord  4 with z component',\n",
       " 'coef  8 assined to coord 12 with z component',\n",
       " 'coef  9 assined to coord  5 with z component',\n",
       " 'coef 10 assined to coord 13 with z component',\n",
       " 'coef 13 assined to coord 14 with z component',\n",
       " 'coef 14 assined to coord  6 with z component',\n",
       " 'coef 15 assined to coord  9 with z component',\n",
       " 'coef 16 assined to coord  7 with z component',\n",
       " 'coef 17 assined to coord  8 with z component',\n",
       " 'coef 18 assined to coord 10 with z component',\n",
       " 'coef 19 assined to coord 15 with z component',\n",
       " 'coef  0 assined to coord 11 with x component',\n",
       " 'coef  4 assined to coord 16 with x component',\n",
       " 'coef 11 assined to coord 17 with x component',\n",
       " 'coef 12 assined to coord 19 with x component',\n",
       " 'coef 20 assined to coord 18 with x component']"
      ]
     },
     "execution_count": 18,
     "metadata": {},
     "output_type": "execute_result"
    }
   ],
   "source": [
    "probe_name"
   ]
  },
  {
   "cell_type": "code",
   "execution_count": null,
   "metadata": {},
   "outputs": [],
   "source": []
  }
 ],
 "metadata": {
  "colab": {
   "authorship_tag": "ABX9TyN7rb8b5k0KgGNKJS7BCvCK",
   "collapsed_sections": [],
   "name": "probe_array.ipynb",
   "provenance": []
  },
  "kernelspec": {
   "display_name": "Python 3 (ipykernel)",
   "language": "python",
   "name": "python3"
  },
  "language_info": {
   "codemirror_mode": {
    "name": "ipython",
    "version": 3
   },
   "file_extension": ".py",
   "mimetype": "text/x-python",
   "name": "python",
   "nbconvert_exporter": "python",
   "pygments_lexer": "ipython3",
   "version": "3.9.7"
  }
 },
 "nbformat": 4,
 "nbformat_minor": 1
}
