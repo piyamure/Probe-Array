{
 "cells": [
  {
   "cell_type": "code",
   "execution_count": 1,
   "metadata": {
    "executionInfo": {
     "elapsed": 1546,
     "status": "ok",
     "timestamp": 1660918396756,
     "user": {
      "displayName": "Piya Amara Palamure",
      "userId": "09416337417591855889"
     },
     "user_tz": 240
    },
    "id": "LubHpH5FF0Z_"
   },
   "outputs": [],
   "source": [
    "import numpy as np\n",
    "import sympy as sp \n",
    "import pandas as pd\n",
    "import os\n",
    "from sympy import assoc_legendre\n",
    "import matplotlib.pyplot as plt"
   ]
  },
  {
   "cell_type": "code",
   "execution_count": 2,
   "metadata": {
    "executionInfo": {
     "elapsed": 5,
     "status": "ok",
     "timestamp": 1660874274376,
     "user": {
      "displayName": "Piya Amara Palamure",
      "userId": "09416337417591855889"
     },
     "user_tz": 240
    },
    "id": "Nkr4MgQIF5ze"
   },
   "outputs": [],
   "source": [
    "l,m = sp.symbols('l,m',real=True)\n",
    "x,y,z = sp.symbols('x,y,z',real=True,positive=True)\n",
    "r,theta,phi = sp.symbols('r,theta,phi')\n",
    "\n",
    "# function to convert spherical coords to cartesian \n",
    "def SphericalToCartesian(f):\n",
    "  return f.subs([(r,sp.sqrt(x**2 + y**2 + z**2)),\n",
    "                 (theta,sp.acos(z/sp.sqrt(x**2 + y**2 + z**2))),\n",
    "                 (phi,sp.asin(y/sp.sqrt(x**2 + y**2)))])"
   ]
  },
  {
   "cell_type": "code",
   "execution_count": 3,
   "metadata": {
    "executionInfo": {
     "elapsed": 257,
     "status": "ok",
     "timestamp": 1660874274630,
     "user": {
      "displayName": "Piya Amara Palamure",
      "userId": "09416337417591855889"
     },
     "user_tz": 240
    },
    "id": "Sq8Tb5jfF8dN"
   },
   "outputs": [],
   "source": [
    "# function to generate basis function in cartisian coords \n",
    "def basisFunction(l,m):\n",
    "  l+=1\n",
    "  c_plus = sp.factorial(l-1) * (-2)**(sp.Abs(m)) /sp.factorial(l + m) * sp.cos(m * phi)\n",
    "  c_negt = sp.factorial(l-1) * (-2)**(sp.Abs(m)) /sp.factorial(l + sp.Abs(m)) * sp.sin(sp.Abs(m) * phi)\n",
    "\n",
    "  s_plus  = SphericalToCartesian(c_plus* r**l * assoc_legendre(l,m,sp.cos(theta)))\n",
    "  s_minus = SphericalToCartesian(c_negt* r**l * assoc_legendre(l,sp.Abs(m),sp.cos(theta)))\n",
    "  \n",
    "  if m >= 0:\n",
    "    return [sp.expand_trig(sp.diff(s_plus, axis)).simplify() for axis in [x,y,z]]\n",
    "  else:\n",
    "    return [sp.expand_trig(sp.diff(s_minus, axis)).simplify().expand() for axis in [x,y,z]]"
   ]
  },
  {
   "cell_type": "code",
   "execution_count": 4,
   "metadata": {
    "executionInfo": {
     "elapsed": 4,
     "status": "ok",
     "timestamp": 1660874274630,
     "user": {
      "displayName": "Piya Amara Palamure",
      "userId": "09416337417591855889"
     },
     "user_tz": 240
    },
    "id": "W9bvW6wcF_6F"
   },
   "outputs": [],
   "source": [
    "# get the array of basis fucntion upto order l as a function of x,y,z\n",
    "def basis_upto_order(l):\n",
    "  Phi= [[basisFunction(i,j)[k] for i in range(l+1) for j in range(-i-1,i+2)] for k in range(3)]\n",
    "  Phi_lambda = [sp.lambdify((x,y,z),Phi[i]) for i in range(3)]\n",
    "  Phi_X,Phi_Y,Phi_Z = Phi_lambda[0],Phi_lambda[1],Phi_lambda[2]\n",
    "  return Phi_X,Phi_Y,Phi_Z"
   ]
  },
  {
   "cell_type": "code",
   "execution_count": 5,
   "metadata": {
    "executionInfo": {
     "elapsed": 51980,
     "status": "ok",
     "timestamp": 1660874326606,
     "user": {
      "displayName": "Piya Amara Palamure",
      "userId": "09416337417591855889"
     },
     "user_tz": 240
    },
    "id": "nnqvmCLkGJxG"
   },
   "outputs": [],
   "source": [
    "# get the all the basis function upto order 3 \n",
    "Phi_X,Phi_Y,Phi_Z = basis_upto_order(3)"
   ]
  },
  {
   "cell_type": "code",
   "execution_count": 6,
   "metadata": {
    "colab": {
     "base_uri": "https://localhost:8080/"
    },
    "executionInfo": {
     "elapsed": 20628,
     "status": "ok",
     "timestamp": 1660918429552,
     "user": {
      "displayName": "Piya Amara Palamure",
      "userId": "09416337417591855889"
     },
     "user_tz": 240
    },
    "id": "FVqnxwGGGMRV",
    "outputId": "b8cfac9f-e2be-4803-ea25-b6b21682fb60"
   },
   "outputs": [],
   "source": [
    "os.chdir('C:\\\\Users\\\\PPA25\\\\Desktop\\\\BV_data_Bo')"
   ]
  },
  {
   "cell_type": "code",
   "execution_count": 7,
   "metadata": {
    "executionInfo": {
     "elapsed": 571,
     "status": "ok",
     "timestamp": 1660876390792,
     "user": {
      "displayName": "Piya Amara Palamure",
      "userId": "09416337417591855889"
     },
     "user_tz": 240
    },
    "id": "WVfHvcuoGn3F"
   },
   "outputs": [],
   "source": [
    "# load the bv data from comsol \n",
    "bv = pd.read_csv('field_at_probeloc.txt',comment='%',delim_whitespace=' ',header=None)\n",
    "bv.columns = ['x','y','z','Bx','By','Bz']"
   ]
  },
  {
   "cell_type": "code",
   "execution_count": 8,
   "metadata": {
    "executionInfo": {
     "elapsed": 157,
     "status": "ok",
     "timestamp": 1660876393034,
     "user": {
      "displayName": "Piya Amara Palamure",
      "userId": "09416337417591855889"
     },
     "user_tz": 240
    },
    "id": "AFPTsv0YGwM-"
   },
   "outputs": [],
   "source": [
    "# the best probe location for Bx,By and Bz\n",
    "x_bv_idx = [11,16,17,18,19]\n",
    "y_bv_idx = []\n",
    "z_bv_idx = [0,1,2,3,4,5,6,7,8,9,10,12,13,14,15]"
   ]
  },
  {
   "cell_type": "code",
   "execution_count": 9,
   "metadata": {
    "executionInfo": {
     "elapsed": 174,
     "status": "ok",
     "timestamp": 1660876395483,
     "user": {
      "displayName": "Piya Amara Palamure",
      "userId": "09416337417591855889"
     },
     "user_tz": 240
    },
    "id": "Sayad47oG50D"
   },
   "outputs": [],
   "source": [
    "# get the boundary values for single axis probes \n",
    "x_bv = np.array([bv.iloc[i][['x','y','z']] for i in x_bv_idx]) # x bv loc\n",
    "y_bv = np.array([bv.iloc[i][['x','y','z']] for i in y_bv_idx]) # y bv loc\n",
    "z_bv = np.array([bv.iloc[i][['x','y','z']] for i in z_bv_idx]) # z bv loc\n",
    "\n",
    "Bx_bv = np.array([bv.iloc[i]['Bx'] for i in x_bv_idx]) # Bx bv \n",
    "By_bv = np.array([bv.iloc[i]['By'] for i in y_bv_idx]) # By bv \n",
    "Bz_bv = np.array([bv.iloc[i]['Bz'] for i in z_bv_idx]) # Bz bv "
   ]
  },
  {
   "cell_type": "code",
   "execution_count": 10,
   "metadata": {
    "executionInfo": {
     "elapsed": 183,
     "status": "ok",
     "timestamp": 1660876409468,
     "user": {
      "displayName": "Piya Amara Palamure",
      "userId": "09416337417591855889"
     },
     "user_tz": 240
    },
    "id": "G6fJJ928KLa6"
   },
   "outputs": [],
   "source": [
    "# find the coeffcients(G) using z BV \n",
    "A_z = np.array(list(map(Phi_Z,*z_bv.T)))\n",
    "G_z = np.linalg.pinv(A_z)@Bz_bv"
   ]
  },
  {
   "cell_type": "code",
   "execution_count": 11,
   "metadata": {
    "executionInfo": {
     "elapsed": 654,
     "status": "ok",
     "timestamp": 1660918468290,
     "user": {
      "displayName": "Piya Amara Palamure",
      "userId": "09416337417591855889"
     },
     "user_tz": 240
    },
    "id": "hfrnRdpDJceD"
   },
   "outputs": [],
   "source": [
    "# axis scan data \n",
    "x_scan = pd.read_csv('x_axis_scan_data.txt',comment='%',delim_whitespace=' ',header=None)\n",
    "x_scan.columns = ['x','y','z','Bx','By','Bz']\n",
    "\n",
    "y_scan = pd.read_csv('y_axis_scan_data.txt',comment='%',delim_whitespace=' ',header=None)\n",
    "y_scan.columns = ['x','y','z','Bx','By','Bz']\n",
    "\n",
    "z_scan = pd.read_csv('z_axis_scan_data.txt',comment='%',delim_whitespace=' ',header=None)\n",
    "z_scan.columns = ['x','y','z','Bx','By','Bz']\n",
    "\n",
    "x_s = np.array(x_scan[['x','y','z']])\n",
    "y_s = np.array(y_scan[['x','y','z']])\n",
    "z_s = np.array(z_scan[['x','y','z']])\n",
    "\n",
    "BSx_x,BSy_x,BSz_x = np.array(x_scan[['Bx','By','Bz']]).T\n",
    "BSx_y,BSy_y,BSz_y = np.array(y_scan[['Bx','By','Bz']]).T\n",
    "BSx_z,BSy_z,BSz_z = np.array(z_scan[['Bx','By','Bz']]).T"
   ]
  },
  {
   "cell_type": "code",
   "execution_count": 12,
   "metadata": {
    "executionInfo": {
     "elapsed": 157,
     "status": "ok",
     "timestamp": 1660876414298,
     "user": {
      "displayName": "Piya Amara Palamure",
      "userId": "09416337417591855889"
     },
     "user_tz": 240
    },
    "id": "yubY1j8_ODQA"
   },
   "outputs": [],
   "source": [
    "# use only z harmonic polynomials \n",
    "\n",
    "BPx_x = np.array(list(map(Phi_X,*x_s.T)))@G_z\n",
    "BPy_x = np.array(list(map(Phi_Y,*x_s.T)))@G_z\n",
    "BPz_x = np.array(list(map(Phi_Z,*x_s.T)))@G_z\n",
    "BPx_y = np.array(list(map(Phi_X,*y_s.T)))@G_z\n",
    "BPy_y = np.array(list(map(Phi_Y,*y_s.T)))@G_z\n",
    "BPz_y = np.array(list(map(Phi_Z,*y_s.T)))@G_z\n",
    "BPx_z = np.array(list(map(Phi_X,*z_s.T)))@G_z\n",
    "BPy_z = np.array(list(map(Phi_Y,*z_s.T)))@G_z\n",
    "BPz_z = np.array(list(map(Phi_Z,*z_s.T)))@G_z"
   ]
  },
  {
   "cell_type": "code",
   "execution_count": 13,
   "metadata": {
    "colab": {
     "base_uri": "https://localhost:8080/",
     "height": 399
    },
    "executionInfo": {
     "elapsed": 1970,
     "status": "ok",
     "timestamp": 1660877091361,
     "user": {
      "displayName": "Piya Amara Palamure",
      "userId": "09416337417591855889"
     },
     "user_tz": 240
    },
    "id": "vzSr4_nM4Sy-",
    "outputId": "a347bec8-b2a5-4ed2-b66d-699f311a3325"
   },
   "outputs": [
    {
     "data": {
      "image/png": "[encoded data removed]",
      "text/plain": [
       "<Figure size 1440x432 with 3 Axes>"
      ]
     },
     "metadata": {
      "needs_background": "light"
     },
     "output_type": "display_data"
    }
   ],
   "source": [
    "# plot the Bz using G_z \n",
    "fig, axes = plt.subplots( 1,3, figsize=(20,6))\n",
    "\n",
    "#Bzx\n",
    "ax = axes[0]\n",
    "line1,=ax.plot(x_s[:,0],BSz_x,'bo--',label='scan')\n",
    "line2,=ax.plot(x_s[:,0],BPz_x,'ro--',label='predict')\n",
    "ax.set_xlabel('x(cm)')\n",
    "ax.set_ylabel('Bz(T)')\n",
    "ax.legend(handles=[line1, line2])\n",
    "\n",
    "#Bzy\n",
    "ax = axes[1]\n",
    "ax.plot(y_s[:,1],BSz_y,'bo--')\n",
    "ax.plot(y_s[:,1],BPz_y,'ro--')\n",
    "ax.set_xlabel('y(cm)')\n",
    "ax.set_ylabel('Bz(T)')\n",
    "\n",
    "#Bzz\n",
    "ax = axes[2]\n",
    "ax.plot(z_s[:,2],BSz_z,'bo--')\n",
    "ax.plot(z_s[:,2],BPz_z,'ro--')\n",
    "ax.set_xlabel('z(cm)')\n",
    "ax.set_ylabel('Bz(T)')\n",
    "\n",
    "plt.savefig(\"field_recon_Bz.png\")"
   ]
  },
  {
   "cell_type": "code",
   "execution_count": null,
   "metadata": {
    "executionInfo": {
     "elapsed": 5,
     "status": "ok",
     "timestamp": 1660874353534,
     "user": {
      "displayName": "Piya Amara Palamure",
      "userId": "09416337417591855889"
     },
     "user_tz": 240
    },
    "id": "Pb6BNnsRUsXT"
   },
   "outputs": [],
   "source": []
  }
 ],
 "metadata": {
  "colab": {
   "authorship_tag": "ABX9TyMNZv0TgK26u0A6eWeBOjQG",
   "collapsed_sections": [],
   "name": "reconstruct_Bo.ipynb",
   "provenance": []
  },
  "kernelspec": {
   "display_name": "Python 3 (ipykernel)",
   "language": "python",
   "name": "python3"
  },
  "language_info": {
   "codemirror_mode": {
    "name": "ipython",
    "version": 3
   },
   "file_extension": ".py",
   "mimetype": "text/x-python",
   "name": "python",
   "nbconvert_exporter": "python",
   "pygments_lexer": "ipython3",
   "version": "3.9.7"
  }
 },
 "nbformat": 4,
 "nbformat_minor": 1
}
